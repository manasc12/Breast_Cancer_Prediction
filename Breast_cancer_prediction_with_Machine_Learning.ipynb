{
  "nbformat": 4,
  "nbformat_minor": 0,
  "metadata": {
    "colab": {
      "name": "Breast_cancer_prediction_with_Machine_Learning.ipynb",
      "provenance": [],
      "collapsed_sections": [],
      "include_colab_link": true
    },
    "kernelspec": {
      "name": "python3",
      "display_name": "Python 3"
    }
  },
  "cells": [
    {
      "cell_type": "markdown",
      "metadata": {
        "id": "view-in-github",
        "colab_type": "text"
      },
      "source": [
        "<a href=\"https://colab.research.google.com/github/manasc12/Breast_Cancer_Prediction_with_Neural_Networks/blob/main/Breast_cancer_prediction_with_Machine_Learning.ipynb\" target=\"_parent\"><img src=\"https://colab.research.google.com/assets/colab-badge.svg\" alt=\"Open In Colab\"/></a>"
      ]
    },
    {
      "cell_type": "markdown",
      "metadata": {
        "id": "3ncmWs0EJI1E"
      },
      "source": [
        "##0. Loading library modules"
      ]
    },
    {
      "cell_type": "code",
      "metadata": {
        "id": "wMPlNnBjOQhD"
      },
      "source": [
        "import pandas as pd\n",
        "import numpy as np\n",
        "\n"
      ],
      "execution_count": null,
      "outputs": []
    },
    {
      "cell_type": "markdown",
      "metadata": {
        "id": "xEtGTxwn_Ael"
      },
      "source": [
        "##1. Loading Breast Cancer Wisconsin (Diagnostic) Data Set"
      ]
    },
    {
      "cell_type": "code",
      "metadata": {
        "id": "JqtKVD-F-19s"
      },
      "source": [
        "from sklearn.datasets import load_breast_cancer\n",
        "cancer = load_breast_cancer()\n",
        "cancer_att = pd.DataFrame(data=cancer.data,columns=['radius_mean', 'texture_mean', 'perimeter_mean', 'area_mean',  'smoothness_mean', 'compactness_mean', 'concavity_mean', 'concave points_mean', 'symmetry_mean', 'fractal_dimension_mean', 'radius_se', 'texture_se', 'perimeter_se', 'area_se', 'smoothness_se', 'compactness_se', 'concavity_se', 'concave points_se', 'symmetry_se', 'fractal_dimension_se', 'radius_worst', 'texture_worst', 'perimeter_worst', 'area_worst', 'smoothness_worst', 'compactness_worst', 'concavity_worst', 'concave points_worst', 'symmetry_worst', 'fractal_dimension_worst'])\n",
        "cancer_categories= pd.DataFrame(data=cancer.target,columns=['diagnosis'])\n"
      ],
      "execution_count": null,
      "outputs": []
    },
    {
      "cell_type": "markdown",
      "metadata": {
        "id": "AMP8D8YV-umo"
      },
      "source": [
        "##2. Printing the number of features in the dataset"
      ]
    },
    {
      "cell_type": "code",
      "metadata": {
        "id": "QGg6P0Z4Ob1G",
        "colab": {
          "base_uri": "https://localhost:8080/",
          "height": 35
        },
        "outputId": "1166dcb7-c119-404a-f659-b35e92b7c399"
      },
      "source": [
        "print(\"The cancer dataset has {0[0]} samples and {0[1]} feature attributes.\".format(cancer_att.shape))\n"
      ],
      "execution_count": null,
      "outputs": [
        {
          "output_type": "stream",
          "text": [
            "The cancer dataset has 569 samples and 30 feature attributes.\n"
          ],
          "name": "stdout"
        }
      ]
    },
    {
      "cell_type": "markdown",
      "metadata": {
        "id": "AUEKT04V-MZa"
      },
      "source": [
        "##3. Printing the number of samples in each class"
      ]
    },
    {
      "cell_type": "code",
      "metadata": {
        "id": "DFO-PJlWOkLy",
        "colab": {
          "base_uri": "https://localhost:8080/",
          "height": 35
        },
        "outputId": "1a732ec7-e4d1-49ab-a0c7-d36c2d8ad311"
      },
      "source": [
        "cancer_categories_total = list(cancer_categories.shape)[0]\n",
        "cancer_categories_count = list(cancer_categories['diagnosis'].value_counts())\n",
        "\n",
        "#print(\"The cancer dataset has {} diagnosis samples, among them {} are benign and {} are malignant.\".format(cancer_categories_total, \n",
        "                                                                                 cancer_categories_count[0], \n",
        "                                                                                 cancer_categories_count[1]))\n",
        "   "
      ],
      "execution_count": null,
      "outputs": [
        {
          "output_type": "stream",
          "text": [
            "The cancer dataset has 569 diagnosis samples, among them 357 are benign and 212 are malignant.\n"
          ],
          "name": "stdout"
        }
      ]
    },
    {
      "cell_type": "code",
      "metadata": {
        "id": "KQZ9MsEU0d5l",
        "colab": {
          "base_uri": "https://localhost:8080/",
          "height": 88
        },
        "outputId": "d35504b9-3a1d-46a6-acf5-9160ebc1d3b3"
      },
      "source": [
        "print(cancer_categories.shape)\n",
        "print(cancer_categories['diagnosis'].value_counts())"
      ],
      "execution_count": null,
      "outputs": [
        {
          "output_type": "stream",
          "text": [
            "(569, 1)\n",
            "1    357\n",
            "0    212\n",
            "Name: diagnosis, dtype: int64\n"
          ],
          "name": "stdout"
        }
      ]
    },
    {
      "cell_type": "markdown",
      "metadata": {
        "id": "rsjx_V_S9xkS"
      },
      "source": [
        "##4. Randomly spliting the dataset into training and test set"
      ]
    },
    {
      "cell_type": "code",
      "metadata": {
        "id": "GLi_NhiLTfjR"
      },
      "source": [
        "from sklearn.utils import shuffle\n",
        "from sklearn.model_selection import train_test_split\n",
        "x,y = shuffle(cancer_att,cancer_categories)\n",
        "x_train, x_test, y_train, y_test=train_test_split(x,y,test_size=0.2, random_state=4)"
      ],
      "execution_count": null,
      "outputs": []
    },
    {
      "cell_type": "markdown",
      "metadata": {
        "id": "yJkbQ8Tu2qfc"
      },
      "source": [
        "##5.1 Classifier Support Vector Machine (SVM)"
      ]
    },
    {
      "cell_type": "code",
      "metadata": {
        "id": "-d6SrTirfPNg",
        "colab": {
          "base_uri": "https://localhost:8080/",
          "height": 123
        },
        "outputId": "1e044c81-d3e8-416b-a6c7-01172cea2c87"
      },
      "source": [
        "from sklearn import svm\n",
        "model_1 = svm.SVC(kernel='linear')\n",
        "model_1.fit(x_train, y_train)"
      ],
      "execution_count": null,
      "outputs": [
        {
          "output_type": "stream",
          "text": [
            "/usr/local/lib/python3.6/dist-packages/sklearn/utils/validation.py:724: DataConversionWarning: A column-vector y was passed when a 1d array was expected. Please change the shape of y to (n_samples, ), for example using ravel().\n",
            "  y = column_or_1d(y, warn=True)\n"
          ],
          "name": "stderr"
        },
        {
          "output_type": "execute_result",
          "data": {
            "text/plain": [
              "SVC(C=1.0, cache_size=200, class_weight=None, coef0=0.0,\n",
              "    decision_function_shape='ovr', degree=3, gamma='auto_deprecated',\n",
              "    kernel='linear', max_iter=-1, probability=False, random_state=None,\n",
              "    shrinking=True, tol=0.001, verbose=False)"
            ]
          },
          "metadata": {
            "tags": []
          },
          "execution_count": 7
        }
      ]
    },
    {
      "cell_type": "markdown",
      "metadata": {
        "id": "1uK8F0q36bQe"
      },
      "source": [
        "##5.2 Classifier Decision Tree"
      ]
    },
    {
      "cell_type": "code",
      "metadata": {
        "id": "pWToMvhr6vpw",
        "colab": {
          "base_uri": "https://localhost:8080/",
          "height": 123
        },
        "outputId": "edd60123-5dbd-4a7d-ad4a-574a842a84db"
      },
      "source": [
        "from sklearn import tree\n",
        "model_2 = tree.DecisionTreeClassifier()\n",
        "model_2.fit(x_train, y_train)"
      ],
      "execution_count": null,
      "outputs": [
        {
          "output_type": "execute_result",
          "data": {
            "text/plain": [
              "DecisionTreeClassifier(class_weight=None, criterion='gini', max_depth=None,\n",
              "                       max_features=None, max_leaf_nodes=None,\n",
              "                       min_impurity_decrease=0.0, min_impurity_split=None,\n",
              "                       min_samples_leaf=1, min_samples_split=2,\n",
              "                       min_weight_fraction_leaf=0.0, presort=False,\n",
              "                       random_state=None, splitter='best')"
            ]
          },
          "metadata": {
            "tags": []
          },
          "execution_count": 8
        }
      ]
    },
    {
      "cell_type": "markdown",
      "metadata": {
        "id": "RxZqnWPB7Rd3"
      },
      "source": [
        "##5.3 Classifier K-Nearest Neighbor (KNN)"
      ]
    },
    {
      "cell_type": "code",
      "metadata": {
        "id": "U41r1WZI7nmm",
        "colab": {
          "base_uri": "https://localhost:8080/",
          "height": 105
        },
        "outputId": "b45a61cc-c856-4c9e-df2a-c7b2136284d4"
      },
      "source": [
        "from sklearn.neighbors import KNeighborsClassifier\n",
        "model_3 = KNeighborsClassifier(n_neighbors=3)\n",
        "model_3.fit(x_train, y_train)"
      ],
      "execution_count": null,
      "outputs": [
        {
          "output_type": "stream",
          "text": [
            "/usr/local/lib/python3.6/dist-packages/ipykernel_launcher.py:3: DataConversionWarning: A column-vector y was passed when a 1d array was expected. Please change the shape of y to (n_samples, ), for example using ravel().\n",
            "  This is separate from the ipykernel package so we can avoid doing imports until\n"
          ],
          "name": "stderr"
        },
        {
          "output_type": "execute_result",
          "data": {
            "text/plain": [
              "KNeighborsClassifier(algorithm='auto', leaf_size=30, metric='minkowski',\n",
              "                     metric_params=None, n_jobs=None, n_neighbors=3, p=2,\n",
              "                     weights='uniform')"
            ]
          },
          "metadata": {
            "tags": []
          },
          "execution_count": 9
        }
      ]
    },
    {
      "cell_type": "markdown",
      "metadata": {
        "id": "9kJGVvo_FO6Y"
      },
      "source": [
        "##5.4 Classifier Random Forest"
      ]
    },
    {
      "cell_type": "code",
      "metadata": {
        "id": "FRjIvJ4XFLsu",
        "colab": {
          "base_uri": "https://localhost:8080/",
          "height": 175
        },
        "outputId": "154c79b3-3c57-4133-8f3c-7769f006ac66"
      },
      "source": [
        "from sklearn.ensemble import RandomForestClassifier\n",
        "model_4 = RandomForestClassifier(n_estimators=10)\n",
        "model_4.fit(x_train, y_train)"
      ],
      "execution_count": null,
      "outputs": [
        {
          "output_type": "stream",
          "text": [
            "/usr/local/lib/python3.6/dist-packages/ipykernel_launcher.py:3: DataConversionWarning: A column-vector y was passed when a 1d array was expected. Please change the shape of y to (n_samples,), for example using ravel().\n",
            "  This is separate from the ipykernel package so we can avoid doing imports until\n"
          ],
          "name": "stderr"
        },
        {
          "output_type": "execute_result",
          "data": {
            "text/plain": [
              "RandomForestClassifier(bootstrap=True, class_weight=None, criterion='gini',\n",
              "                       max_depth=None, max_features='auto', max_leaf_nodes=None,\n",
              "                       min_impurity_decrease=0.0, min_impurity_split=None,\n",
              "                       min_samples_leaf=1, min_samples_split=2,\n",
              "                       min_weight_fraction_leaf=0.0, n_estimators=10,\n",
              "                       n_jobs=None, oob_score=False, random_state=None,\n",
              "                       verbose=0, warm_start=False)"
            ]
          },
          "metadata": {
            "tags": []
          },
          "execution_count": 10
        }
      ]
    },
    {
      "cell_type": "markdown",
      "metadata": {
        "id": "xoYqqTa68mAG"
      },
      "source": [
        "##6. Predicting the class"
      ]
    },
    {
      "cell_type": "code",
      "metadata": {
        "id": "kj2k61qSgKbl"
      },
      "source": [
        "model_1_predictions = model_1.predict(x_test)\n",
        "model_2_predictions = model_2.predict(x_test)\n",
        "model_3_predictions = model_3.predict(x_test)\n",
        "model_4_predictions = model_4.predict(x_test)"
      ],
      "execution_count": null,
      "outputs": []
    },
    {
      "cell_type": "code",
      "metadata": {
        "id": "uVfAlbbc1Tzv",
        "colab": {
          "base_uri": "https://localhost:8080/",
          "height": 35
        },
        "outputId": "ccb72dc6-b0f0-4ff3-a9ac-d7ecce548ad1"
      },
      "source": [
        "model_4_predictions[0:10]\n"
      ],
      "execution_count": null,
      "outputs": [
        {
          "output_type": "execute_result",
          "data": {
            "text/plain": [
              "array([0, 1, 1, 1, 1, 1, 0, 1, 1, 0])"
            ]
          },
          "metadata": {
            "tags": []
          },
          "execution_count": 16
        }
      ]
    },
    {
      "cell_type": "code",
      "metadata": {
        "id": "7Y_G1Xbd1ci_",
        "colab": {
          "base_uri": "https://localhost:8080/",
          "height": 363
        },
        "outputId": "945deca0-604e-4e7d-993b-981cb1ef5bb1"
      },
      "source": [
        "y_test[0:10]"
      ],
      "execution_count": null,
      "outputs": [
        {
          "output_type": "execute_result",
          "data": {
            "text/html": [
              "<div>\n",
              "<style scoped>\n",
              "    .dataframe tbody tr th:only-of-type {\n",
              "        vertical-align: middle;\n",
              "    }\n",
              "\n",
              "    .dataframe tbody tr th {\n",
              "        vertical-align: top;\n",
              "    }\n",
              "\n",
              "    .dataframe thead th {\n",
              "        text-align: right;\n",
              "    }\n",
              "</style>\n",
              "<table border=\"1\" class=\"dataframe\">\n",
              "  <thead>\n",
              "    <tr style=\"text-align: right;\">\n",
              "      <th></th>\n",
              "      <th>diagnosis</th>\n",
              "    </tr>\n",
              "  </thead>\n",
              "  <tbody>\n",
              "    <tr>\n",
              "      <th>43</th>\n",
              "      <td>0</td>\n",
              "    </tr>\n",
              "    <tr>\n",
              "      <th>357</th>\n",
              "      <td>1</td>\n",
              "    </tr>\n",
              "    <tr>\n",
              "      <th>544</th>\n",
              "      <td>1</td>\n",
              "    </tr>\n",
              "    <tr>\n",
              "      <th>426</th>\n",
              "      <td>1</td>\n",
              "    </tr>\n",
              "    <tr>\n",
              "      <th>374</th>\n",
              "      <td>1</td>\n",
              "    </tr>\n",
              "    <tr>\n",
              "      <th>440</th>\n",
              "      <td>1</td>\n",
              "    </tr>\n",
              "    <tr>\n",
              "      <th>323</th>\n",
              "      <td>0</td>\n",
              "    </tr>\n",
              "    <tr>\n",
              "      <th>478</th>\n",
              "      <td>1</td>\n",
              "    </tr>\n",
              "    <tr>\n",
              "      <th>334</th>\n",
              "      <td>1</td>\n",
              "    </tr>\n",
              "    <tr>\n",
              "      <th>274</th>\n",
              "      <td>0</td>\n",
              "    </tr>\n",
              "  </tbody>\n",
              "</table>\n",
              "</div>"
            ],
            "text/plain": [
              "     diagnosis\n",
              "43           0\n",
              "357          1\n",
              "544          1\n",
              "426          1\n",
              "374          1\n",
              "440          1\n",
              "323          0\n",
              "478          1\n",
              "334          1\n",
              "274          0"
            ]
          },
          "metadata": {
            "tags": []
          },
          "execution_count": 17
        }
      ]
    },
    {
      "cell_type": "markdown",
      "metadata": {
        "id": "FGdDqw7N89MF"
      },
      "source": [
        "##7. Measuring the accurecy of each classifier"
      ]
    },
    {
      "cell_type": "code",
      "metadata": {
        "id": "alcP8Uyb5hCE",
        "colab": {
          "base_uri": "https://localhost:8080/",
          "height": 88
        },
        "outputId": "83ef4ad2-40dd-4b58-f6f8-739838ed552a"
      },
      "source": [
        "print(\"Accuracy of SVM: {}%\".format(model_1.score(x_test, y_test) * 100 ))\n",
        "print(\"Accuracy of Decision Tree: {}%\".format(model_2.score(x_test, y_test) * 100 ))\n",
        "print(\"Accuracy of KNN: {}%\".format(model_3.score(x_test, y_test) * 100 ))\n",
        "print(\"Accuracy of Random Forest: {}%\".format(model_4.score(x_test, y_test) * 100 ))"
      ],
      "execution_count": null,
      "outputs": [
        {
          "output_type": "stream",
          "text": [
            "Accuracy of SVM: 96.49122807017544%\n",
            "Accuracy of Decision Tree: 91.22807017543859%\n",
            "Accuracy of KNN: 93.85964912280701%\n",
            "Accuracy of Random Forest: 96.49122807017544%\n"
          ],
          "name": "stdout"
        }
      ]
    },
    {
      "cell_type": "code",
      "metadata": {
        "id": "b-1x1lWa8izW"
      },
      "source": [
        ""
      ],
      "execution_count": null,
      "outputs": []
    }
  ]
}